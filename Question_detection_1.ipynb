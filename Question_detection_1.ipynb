{
  "nbformat": 4,
  "nbformat_minor": 0,
  "metadata": {
    "kernelspec": {
      "display_name": "Python 3",
      "language": "python",
      "name": "python3"
    },
    "language_info": {
      "codemirror_mode": {
        "name": "ipython",
        "version": 3
      },
      "file_extension": ".py",
      "mimetype": "text/x-python",
      "name": "python",
      "nbconvert_exporter": "python",
      "pygments_lexer": "ipython3",
      "version": "3.8.5"
    },
    "colab": {
      "name": "Question detection - 1",
      "provenance": [],
      "include_colab_link": true
    }
  },
  "cells": [
    {
      "cell_type": "markdown",
      "metadata": {
        "id": "view-in-github",
        "colab_type": "text"
      },
      "source": [
        "<a href=\"https://colab.research.google.com/github/vethssvikas/Work-done-in-DS-internship/blob/main/Question_detection_1.ipynb\" target=\"_parent\"><img src=\"https://colab.research.google.com/assets/colab-badge.svg\" alt=\"Open In Colab\"/></a>"
      ]
    },
    {
      "cell_type": "code",
      "metadata": {
        "id": "A4dhnqgub9OX"
      },
      "source": [
        "import pandas as pd\n",
        "from pycorenlp import StanfordCoreNLP"
      ],
      "execution_count": null,
      "outputs": []
    },
    {
      "cell_type": "code",
      "metadata": {
        "id": "ON_A64ifb9Oc"
      },
      "source": [
        "class method1():\n",
        "    \n",
        "    def __init__(self):\n",
        "        self.nlp = StanfordCoreNLP('http://localhost:9000')\n",
        "        \n",
        "    def isQuestion(self, sentence):\n",
        "        if '?' in sentence:\n",
        "            return 1\n",
        "        output = self.nlp.annotate(sentence, properties={\n",
        "            'annotators': 'parse',\n",
        "            'outputFormat': 'json',\n",
        "            'timeout': 1000,\n",
        "        })\n",
        "\n",
        "        if ('SQ' or 'SBARQ') in output['sentences'][0][\"parse\"]:\n",
        "            return 1    \n",
        "        else:\n",
        "            return 0\n",
        "\n"
      ],
      "execution_count": null,
      "outputs": []
    },
    {
      "cell_type": "code",
      "metadata": {
        "id": "Aze1AGbhb9Oc"
      },
      "source": [
        ""
      ],
      "execution_count": null,
      "outputs": []
    }
  ]
}