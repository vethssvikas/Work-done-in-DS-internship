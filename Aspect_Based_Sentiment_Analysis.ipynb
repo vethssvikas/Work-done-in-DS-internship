{
  "nbformat": 4,
  "nbformat_minor": 0,
  "metadata": {
    "colab": {
      "name": "Aspect Based Sentiment Analysis",
      "provenance": [],
      "authorship_tag": "ABX9TyO89E35ZNfkoZS0eKiS32kv",
      "include_colab_link": true
    },
    "kernelspec": {
      "name": "python3",
      "display_name": "Python 3"
    },
    "language_info": {
      "name": "python"
    }
  },
  "cells": [
    {
      "cell_type": "markdown",
      "metadata": {
        "id": "view-in-github",
        "colab_type": "text"
      },
      "source": [
        "<a href=\"https://colab.research.google.com/github/vethssvikas/Work-done-in-DS-internship/blob/main/Aspect_Based_Sentiment_Analysis.ipynb\" target=\"_parent\"><img src=\"https://colab.research.google.com/assets/colab-badge.svg\" alt=\"Open In Colab\"/></a>"
      ]
    },
    {
      "cell_type": "code",
      "metadata": {
        "colab": {
          "base_uri": "https://localhost:8080/"
        },
        "id": "HVySrUgE2NHv",
        "outputId": "25e88cb3-7e71-4f98-8cf4-540f2f25ce95"
      },
      "source": [
        "from google.colab import drive\n",
        "drive.mount('/content/gdrive')"
      ],
      "execution_count": null,
      "outputs": [
        {
          "output_type": "stream",
          "text": [
            "Mounted at /content/gdrive\n"
          ],
          "name": "stdout"
        }
      ]
    },
    {
      "cell_type": "code",
      "metadata": {
        "id": "CaVIZrJu2-lj"
      },
      "source": [
        "import pandas as pd\n",
        "import numpy as np\n",
        "import os\n",
        "import nltk\n",
        "from nltk.tokenize import WordPunctTokenizer\n",
        "from nltk.stem.snowball import SnowballStemmer\n",
        "import math\n",
        "import tensorflow as tf\n",
        "\n",
        "\n",
        "from sklearn.feature_extraction.text import TfidfVectorizer\n",
        "from sklearn.model_selection import *\n",
        "from sklearn import svm\n",
        "from sklearn.metrics import classification_report\n",
        "from sklearn.metrics import accuracy_score, r2_score"
      ],
      "execution_count": null,
      "outputs": []
    },
    {
      "cell_type": "code",
      "metadata": {
        "id": "TuA2kJZG3CeR"
      },
      "source": [
        "source_word2idx = {}\n",
        "target_word2idx = {}\n",
        "source_data = []\n",
        "source_loc_data = []\n",
        "target_data = []\n",
        "target_label = []\n",
        "\n",
        "final_list = []\n",
        "max_length = 0\n"
      ],
      "execution_count": null,
      "outputs": []
    },
    {
      "cell_type": "code",
      "metadata": {
        "id": "mwyof5YH3FaI"
      },
      "source": [
        "def read_data(file):\n",
        "    data_train_1 = pd.read_csv(file)\n",
        "    return data_train_1"
      ],
      "execution_count": null,
      "outputs": []
    },
    {
      "cell_type": "code",
      "metadata": {
        "id": "v5xuC1Nr3InO"
      },
      "source": [
        "def read_and_process_data(data_train_1, sourceWord2idx, targetWord2idx):\n",
        "    global source_word2idx\n",
        "    global target_word2idx\n",
        "    source_word2idx = sourceWord2idx\n",
        "    target_word2idx = targetWord2idx\n",
        "    data_train_1.apply(prepare_data,axis = 1)\n",
        "    return source_data, source_loc_data, target_data, target_label, max_length\n"
      ],
      "execution_count": null,
      "outputs": []
    },
    {
      "cell_type": "code",
      "metadata": {
        "id": "adPYlGbw3NPl"
      },
      "source": [
        "def custom_tokenize(text):\n",
        "    tokenizer = WordPunctTokenizer()\n",
        "    tokens = tokenizer.tokenize(text)\n",
        "    words = [word for word in tokens if word.isalnum()]\n",
        "    return words"
      ],
      "execution_count": null,
      "outputs": []
    },
    {
      "cell_type": "code",
      "metadata": {
        "id": "jUx3uFPp4QeL"
      },
      "source": [
        "def parse_data(data_train_1):\n",
        "    data_train_1[' text'] = data_train_1[' text'].apply(lambda x: x.replace('[comma]',',').lower())\n",
        "    data_train_1[' text'] = data_train_1[' text'].apply(custom_tokenize)\n",
        "    data_train_1[' aspect_term'] = data_train_1[' aspect_term'].apply(lambda x: x.lower())\n",
        "    data_train_1[' aspect_term'] = data_train_1[' aspect_term'].apply(custom_tokenize)\n",
        "    data_train_1[' aspect_term'] = data_train_1[' aspect_term'].apply(lambda x:\" \".join(x))\n",
        "    return data_train_1"
      ],
      "execution_count": null,
      "outputs": []
    },
    {
      "cell_type": "code",
      "metadata": {
        "id": "u3zStUM-4Tni"
      },
      "source": [
        "def prepare_data(row):\n",
        "    global max_length\n",
        "    global source_word2idx\n",
        "    global target_word2idx\n",
        "    m = [source_word2idx[id] for id in row[' text']]\n",
        "    if len(m) == 2602:\n",
        "        print(row[' text'])\n",
        "    if len(m) > max_length:\n",
        "        max_length = len(m)\n",
        "    source_data.append(m)\n",
        "    t = [target_word2idx[row[' aspect_term']]]\n",
        "    target_data.append(t)\n",
        "    target_label.append(row[' class'])\n",
        "    g = get_pos(row)\n",
        "    datab = []\n",
        "    datab.append(m)\n",
        "    datab.append(g)\n",
        "    datab.append(t)\n",
        "    final_list.append(datab)"
      ],
      "execution_count": null,
      "outputs": []
    },
    {
      "cell_type": "code",
      "metadata": {
        "id": "430fB4m047nQ"
      },
      "source": [
        "def get_pos(row):\n",
        "    index = []\n",
        "    s_len = len(row[' text'])-1\n",
        "    p = row[' text'].copy()\n",
        "    aspects = row[' aspect_term'].split(' ')\n",
        "    for aspect in aspects:\n",
        "        try:\n",
        "            if len(aspects)-1 > aspects.index(aspect):\n",
        "                a_i = [i for i,val in enumerate(row[' text']) if val==aspect]\n",
        "                try:\n",
        "                    for a_id in a_i:\n",
        "                        if row[' text'][a_id+1] != aspects[aspects.index(aspect)+1]:\n",
        "                            a_i.remove(a_id)\n",
        "                except:\n",
        "                    pass\n",
        "                index.extend(a_i[0])\n",
        "            else:\n",
        "                index.append(row[' text'].index(aspect))\n",
        "            p[row[' text'].index(aspect)] = s_len\n",
        "        except:\n",
        "            pass\n",
        "    try:\n",
        "        for i in range(index[0]):\n",
        "            p[i] = s_len - index[0] + i\n",
        "        v = s_len\n",
        "        for i in range(index[len(index)-1],len(p)):\n",
        "            if i == index[len(index)-1]:\n",
        "                p[i] = v\n",
        "            else:    \n",
        "                p[i] = v - 1\n",
        "                v = v-1\n",
        "            \n",
        "    except Exception as e: \n",
        "        p = [0 for i in row[' text']]\n",
        "    source_loc_data.append(p)\n",
        "    return p"
      ],
      "execution_count": null,
      "outputs": []
    },
    {
      "cell_type": "code",
      "metadata": {
        "id": "s-ZPK0Sr5H8h"
      },
      "source": [
        "def create_vocab(data_train_1):\n",
        "    source_word2idx = {'<pad>': 0}\n",
        "    target_word2idx = {}\n",
        "    for words in data_train_1[' text']:\n",
        "        for word in words:\n",
        "            if word not in source_word2idx:\n",
        "                source_word2idx[word] = len(source_word2idx)\n",
        "\n",
        "    for words in data_train_1[' aspect_term']:\n",
        "        if words not in target_word2idx:\n",
        "            target_word2idx[words] = len(target_word2idx)\n",
        "    return source_word2idx, target_word2idx"
      ],
      "execution_count": null,
      "outputs": []
    },
    {
      "cell_type": "code",
      "metadata": {
        "id": "wv9oNAI25Lgu"
      },
      "source": [
        "train_file = '/content/gdrive/My Drive/data_2_train.csv'\n",
        "\n",
        "data = read_data(train_file)\n",
        "parsed_data = parse_data(data)\n",
        "source_word2idx, target_word2idx = create_vocab(parsed_data)\n",
        "train_data = read_and_process_data(parsed_data, source_word2idx, target_word2idx)"
      ],
      "execution_count": null,
      "outputs": []
    },
    {
      "cell_type": "code",
      "metadata": {
        "colab": {
          "base_uri": "https://localhost:8080/",
          "height": 423
        },
        "id": "fTyg72LxIxI2",
        "outputId": "70b14a7f-8a10-4af3-dc45-89c4aea0a798"
      },
      "source": [
        "\n",
        "data.iloc[:,[1,2]]"
      ],
      "execution_count": null,
      "outputs": [
        {
          "output_type": "execute_result",
          "data": {
            "text/html": [
              "<div>\n",
              "<style scoped>\n",
              "    .dataframe tbody tr th:only-of-type {\n",
              "        vertical-align: middle;\n",
              "    }\n",
              "\n",
              "    .dataframe tbody tr th {\n",
              "        vertical-align: top;\n",
              "    }\n",
              "\n",
              "    .dataframe thead th {\n",
              "        text-align: right;\n",
              "    }\n",
              "</style>\n",
              "<table border=\"1\" class=\"dataframe\">\n",
              "  <thead>\n",
              "    <tr style=\"text-align: right;\">\n",
              "      <th></th>\n",
              "      <th>text</th>\n",
              "      <th>aspect_term</th>\n",
              "    </tr>\n",
              "  </thead>\n",
              "  <tbody>\n",
              "    <tr>\n",
              "      <th>0</th>\n",
              "      <td>[but, the, staff, was, so, horrible, to, us]</td>\n",
              "      <td>staff</td>\n",
              "    </tr>\n",
              "    <tr>\n",
              "      <th>1</th>\n",
              "      <td>[to, be, completely, fair, the, only, redeemin...</td>\n",
              "      <td>food</td>\n",
              "    </tr>\n",
              "    <tr>\n",
              "      <th>2</th>\n",
              "      <td>[the, food, is, uniformly, exceptional, with, ...</td>\n",
              "      <td>food</td>\n",
              "    </tr>\n",
              "    <tr>\n",
              "      <th>3</th>\n",
              "      <td>[the, food, is, uniformly, exceptional, with, ...</td>\n",
              "      <td>kitchen</td>\n",
              "    </tr>\n",
              "    <tr>\n",
              "      <th>4</th>\n",
              "      <td>[the, food, is, uniformly, exceptional, with, ...</td>\n",
              "      <td>menu</td>\n",
              "    </tr>\n",
              "    <tr>\n",
              "      <th>...</th>\n",
              "      <td>...</td>\n",
              "      <td>...</td>\n",
              "    </tr>\n",
              "    <tr>\n",
              "      <th>3597</th>\n",
              "      <td>[each, table, has, a, pot, of, boiling, water,...</td>\n",
              "      <td>pot of boiling water</td>\n",
              "    </tr>\n",
              "    <tr>\n",
              "      <th>3598</th>\n",
              "      <td>[each, table, has, a, pot, of, boiling, water,...</td>\n",
              "      <td>meats</td>\n",
              "    </tr>\n",
              "    <tr>\n",
              "      <th>3599</th>\n",
              "      <td>[each, table, has, a, pot, of, boiling, water,...</td>\n",
              "      <td>vegetables</td>\n",
              "    </tr>\n",
              "    <tr>\n",
              "      <th>3600</th>\n",
              "      <td>[each, table, has, a, pot, of, boiling, water,...</td>\n",
              "      <td>rice</td>\n",
              "    </tr>\n",
              "    <tr>\n",
              "      <th>3601</th>\n",
              "      <td>[each, table, has, a, pot, of, boiling, water,...</td>\n",
              "      <td>glass noodles</td>\n",
              "    </tr>\n",
              "  </tbody>\n",
              "</table>\n",
              "<p>3602 rows × 2 columns</p>\n",
              "</div>"
            ],
            "text/plain": [
              "                                                   text           aspect_term\n",
              "0          [but, the, staff, was, so, horrible, to, us]                 staff\n",
              "1     [to, be, completely, fair, the, only, redeemin...                  food\n",
              "2     [the, food, is, uniformly, exceptional, with, ...                  food\n",
              "3     [the, food, is, uniformly, exceptional, with, ...               kitchen\n",
              "4     [the, food, is, uniformly, exceptional, with, ...                  menu\n",
              "...                                                 ...                   ...\n",
              "3597  [each, table, has, a, pot, of, boiling, water,...  pot of boiling water\n",
              "3598  [each, table, has, a, pot, of, boiling, water,...                 meats\n",
              "3599  [each, table, has, a, pot, of, boiling, water,...            vegetables\n",
              "3600  [each, table, has, a, pot, of, boiling, water,...                  rice\n",
              "3601  [each, table, has, a, pot, of, boiling, water,...         glass noodles\n",
              "\n",
              "[3602 rows x 2 columns]"
            ]
          },
          "metadata": {
            "tags": []
          },
          "execution_count": 22
        }
      ]
    },
    {
      "cell_type": "code",
      "metadata": {
        "colab": {
          "base_uri": "https://localhost:8080/"
        },
        "id": "rAdeCwu_6XPI",
        "outputId": "fd509b11-9745-481c-b8f7-21fcc0c8c3aa"
      },
      "source": [
        "x1_list, x2_list, x3_list = list(), list(), list()\n",
        "example_list = list()\n",
        "\n",
        "sen_max_len = train_data[4]\n",
        "print(\"sen_max_len: \",sen_max_len)\n",
        "\n",
        "for i in range(len(train_data[0])):\n",
        "    x1, x2, x3 = list(), list(), list()\n",
        "    \n",
        "    x1.extend(train_data[0][i])\n",
        "    if len(x1) < sen_max_len:\n",
        "        for _ in range(sen_max_len - len(x1)):\n",
        "            x1.append(0)\n",
        "    \n",
        "    x2.extend(train_data[1][i])\n",
        "    if len(x2) < sen_max_len:\n",
        "        for _ in range(sen_max_len - len(x2)):\n",
        "            x2.append(0)\n",
        "            \n",
        "    x3.extend(train_data[2][i])\n",
        "    for j in range(len(x1) - 1):\n",
        "        x3.append(x3[0])\n",
        "    for k in range(sen_max_len - len(x3)):\n",
        "        x3.append(0)\n",
        "\n",
        "    example = list()\n",
        "    example.append(x1)\n",
        "    example.append(x2)\n",
        "    example.append(x3)\n",
        "    example_list.append(example)\n",
        "\n",
        "\n",
        "\n",
        "final_array = np.array(example_list)\n",
        "nsamples, nx, ny = final_array.shape\n",
        "feature_vector = final_array.reshape((nsamples,nx*ny))\n",
        "labels = train_data[3] \n",
        "\n"
      ],
      "execution_count": null,
      "outputs": [
        {
          "output_type": "stream",
          "text": [
            "sen_max_len:  70\n"
          ],
          "name": "stdout"
        }
      ]
    },
    {
      "cell_type": "code",
      "metadata": {
        "colab": {
          "base_uri": "https://localhost:8080/"
        },
        "id": "wljX0oUU6oHc",
        "outputId": "c106d527-2456-4af2-81bf-af60096311e1"
      },
      "source": [
        "from imblearn.over_sampling import SMOTE\n",
        "X_resampled, y_resampled = SMOTE().fit_sample(feature_vector, labels)\n"
      ],
      "execution_count": null,
      "outputs": [
        {
          "output_type": "stream",
          "text": [
            "/usr/local/lib/python3.7/dist-packages/sklearn/externals/six.py:31: FutureWarning: The module is deprecated in version 0.21 and will be removed in version 0.23 since we've dropped support for Python 2.7. Please rely on the official version of six (https://pypi.org/project/six/).\n",
            "  \"(https://pypi.org/project/six/).\", FutureWarning)\n",
            "/usr/local/lib/python3.7/dist-packages/sklearn/utils/deprecation.py:144: FutureWarning: The sklearn.neighbors.base module is  deprecated in version 0.22 and will be removed in version 0.24. The corresponding classes / functions should instead be imported from sklearn.neighbors. Anything that cannot be imported from sklearn.neighbors is now part of the private API.\n",
            "  warnings.warn(message, FutureWarning)\n",
            "/usr/local/lib/python3.7/dist-packages/sklearn/utils/deprecation.py:87: FutureWarning: Function safe_indexing is deprecated; safe_indexing is deprecated in version 0.22 and will be removed in version 0.24.\n",
            "  warnings.warn(msg, category=FutureWarning)\n",
            "/usr/local/lib/python3.7/dist-packages/sklearn/utils/deprecation.py:87: FutureWarning: Function safe_indexing is deprecated; safe_indexing is deprecated in version 0.22 and will be removed in version 0.24.\n",
            "  warnings.warn(msg, category=FutureWarning)\n"
          ],
          "name": "stderr"
        }
      ]
    },
    {
      "cell_type": "code",
      "metadata": {
        "id": "hLTyjYNy6vTP"
      },
      "source": [
        "train_vectors, test_vectors, train_labels, test_labels = train_test_split(X_resampled, y_resampled, test_size=0.2, random_state=0)"
      ],
      "execution_count": null,
      "outputs": []
    },
    {
      "cell_type": "code",
      "metadata": {
        "colab": {
          "base_uri": "https://localhost:8080/"
        },
        "id": "tydn6cH161pO",
        "outputId": "74d2c60a-9be0-425f-fdd3-b97b876e4f19"
      },
      "source": [
        "print(train_vectors.shape)\n",
        "print(train_labels.shape)\n",
        "print(test_vectors.shape)\n",
        "print(test_labels.shape)\n",
        "print(type(train_labels))"
      ],
      "execution_count": null,
      "outputs": [
        {
          "output_type": "stream",
          "text": [
            "(5193, 210)\n",
            "(5193,)\n",
            "(1299, 210)\n",
            "(1299,)\n",
            "<class 'numpy.ndarray'>\n"
          ],
          "name": "stdout"
        }
      ]
    },
    {
      "cell_type": "code",
      "metadata": {
        "colab": {
          "base_uri": "https://localhost:8080/"
        },
        "id": "keoqRD307C7v",
        "outputId": "5fc56249-bb16-425b-de8e-582f29f75d8c"
      },
      "source": [
        "from sklearn.ensemble import RandomForestClassifier as RFR\n",
        "n_estimators = [100,200,500]\n",
        "rfr = RFR(n_estimators=100,random_state=0)\n",
        "\n",
        "print(\"Results for RFR: \")\n",
        "print()\n",
        "\n",
        "rfr_scores = cross_val_score(rfr, train_vectors, train_labels, cv=10)  \n",
        "print('scores: ', rfr_scores)\n",
        "\n",
        "rfr.fit(train_vectors,train_labels)\n",
        "y_pred = rfr.predict(test_vectors) \n",
        "\n",
        "rfr_accuracy = accuracy_score(test_labels, y_pred)\n",
        "\n",
        "print()\n",
        "\n",
        "print(\"\")\n",
        "print(classification_report(test_labels, y_pred))\n",
        "print(\"Overall accuracy: \",rfr_accuracy)"
      ],
      "execution_count": null,
      "outputs": [
        {
          "output_type": "stream",
          "text": [
            "Results for RFR: \n",
            "\n",
            "scores:  [0.74230769 0.73269231 0.77115385 0.78034682 0.78612717 0.8150289\n",
            " 0.73988439 0.74566474 0.7938343  0.75337187]\n",
            "\n",
            "\n",
            "              precision    recall  f1-score   support\n",
            "\n",
            "          -1       0.78      0.77      0.77       433\n",
            "           0       0.77      0.81      0.79       432\n",
            "           1       0.76      0.74      0.75       434\n",
            "\n",
            "    accuracy                           0.77      1299\n",
            "   macro avg       0.77      0.77      0.77      1299\n",
            "weighted avg       0.77      0.77      0.77      1299\n",
            "\n",
            "Overall accuracy:  0.7713625866050808\n"
          ],
          "name": "stdout"
        }
      ]
    },
    {
      "cell_type": "code",
      "metadata": {
        "colab": {
          "base_uri": "https://localhost:8080/"
        },
        "id": "5revmKipH3bB",
        "outputId": "a505a634-adcb-4221-f9c9-0782d680bf37"
      },
      "source": [
        "from sklearn.tree import DecisionTreeClassifier\n",
        "\n",
        "dt_clf = DecisionTreeClassifier(max_depth=None, min_samples_split=2,random_state=0)\n",
        "print(\"Results for DecisionTreeClassifier: \")\n",
        "print()\n",
        "dt_scores = cross_val_score(dt_clf, train_vectors, train_labels, cv=10)  \n",
        "print('scores: ', dt_scores)\n",
        "\n",
        "dt_clf.fit(train_vectors,train_labels)\n",
        "y_pred = dt_clf.predict(test_vectors)\n",
        "\n",
        "accuracy = accuracy_score(test_labels, y_pred)\n",
        "\n",
        "print(\"\")\n",
        "print(classification_report(test_labels, y_pred))\n",
        "print(\"Overall accuracy: \",accuracy)"
      ],
      "execution_count": null,
      "outputs": [
        {
          "output_type": "stream",
          "text": [
            "Results for DecisionTreeClassifier: \n",
            "\n",
            "scores:  [0.67115385 0.65576923 0.67115385 0.67244701 0.73025048 0.69749518\n",
            " 0.65895954 0.64354528 0.65510597 0.65703276]\n",
            "\n",
            "              precision    recall  f1-score   support\n",
            "\n",
            "          -1       0.67      0.64      0.65       433\n",
            "           0       0.65      0.72      0.68       432\n",
            "           1       0.68      0.65      0.67       434\n",
            "\n",
            "    accuracy                           0.67      1299\n",
            "   macro avg       0.67      0.67      0.67      1299\n",
            "weighted avg       0.67      0.67      0.67      1299\n",
            "\n",
            "Overall accuracy:  0.6674364896073903\n"
          ],
          "name": "stdout"
        }
      ]
    },
    {
      "cell_type": "code",
      "metadata": {
        "colab": {
          "base_uri": "https://localhost:8080/"
        },
        "id": "a_H-xEh3HSZN",
        "outputId": "5fa00b54-af43-4ae2-e5ab-5ef1480c2018"
      },
      "source": [
        "from sklearn.ensemble import AdaBoostClassifier as abc\n",
        "from sklearn.datasets import make_classification\n",
        "dt_clf = AdaBoostClassifier(n_estimators=100, random_state=0)\n",
        "print(\"Results for AdaBoost Classifier: \")\n",
        "print()\n",
        "abc_scores = cross_val_score(dt_clf, train_vectors, train_labels, cv=10)  \n",
        "print('scores: ', abc_scores)\n",
        "\n",
        "dt_clf.fit(train_vectors,train_labels)\n",
        "y_pred = dt_clf.predict(test_vectors)\n",
        "\n",
        "accuracy = accuracy_score(test_labels, y_pred)\n",
        "\n",
        "print(\"\")\n",
        "print(classification_report(test_labels, y_pred))\n",
        "print(\"Overall accuracy: \",accuracy)"
      ],
      "execution_count": null,
      "outputs": [
        {
          "output_type": "stream",
          "text": [
            "Results for AdaBoost Classifier: \n",
            "\n",
            "scores:  [0.52307692 0.55576923 0.54038462 0.522158   0.54527938 0.53564547\n",
            " 0.54720617 0.52601156 0.58574181 0.52793834]\n",
            "\n",
            "              precision    recall  f1-score   support\n",
            "\n",
            "          -1       0.56      0.50      0.53       433\n",
            "           0       0.54      0.57      0.55       432\n",
            "           1       0.59      0.61      0.60       434\n",
            "\n",
            "    accuracy                           0.56      1299\n",
            "   macro avg       0.56      0.56      0.56      1299\n",
            "weighted avg       0.56      0.56      0.56      1299\n",
            "\n",
            "Overall accuracy:  0.5627405696689761\n"
          ],
          "name": "stdout"
        }
      ]
    },
    {
      "cell_type": "code",
      "metadata": {
        "colab": {
          "base_uri": "https://localhost:8080/"
        },
        "id": "sAGafD-VNHVJ",
        "outputId": "6e25d1f9-9b16-4560-d90e-d3d4e07ad8a4"
      },
      "source": [
        "from sklearn.neural_network import MLPClassifier\n",
        "mlp = MLPClassifier(hidden_layer_sizes=(150,100,500), max_iter=3000,activation = 'relu',solver='adam',random_state=1)\n",
        "print(\"Results for MLP Classifier: \")\n",
        "print()\n",
        "mlp_scores = cross_val_score(mlp, train_vectors, train_labels, cv=10)  \n",
        "print('scores: ', mlp_scores)\n",
        "\n",
        "dt_clf.fit(train_vectors,train_labels)\n",
        "y_pred = dt_clf.predict(test_vectors)\n",
        "\n",
        "accuracy = accuracy_score(test_labels, y_pred)\n",
        "\n",
        "print(\"\")\n",
        "print(classification_report(test_labels, y_pred))\n",
        "print(\"Overall accuracy: \",accuracy)"
      ],
      "execution_count": null,
      "outputs": [
        {
          "output_type": "stream",
          "text": [
            "Results for MLP Classifier: \n",
            "\n",
            "scores:  [0.73653846 0.72307692 0.73461538 0.75529865 0.75722543 0.7495183\n",
            " 0.68208092 0.72061657 0.74373796 0.74373796]\n",
            "\n",
            "              precision    recall  f1-score   support\n",
            "\n",
            "          -1       0.67      0.64      0.65       433\n",
            "           0       0.65      0.72      0.68       432\n",
            "           1       0.68      0.65      0.67       434\n",
            "\n",
            "    accuracy                           0.67      1299\n",
            "   macro avg       0.67      0.67      0.67      1299\n",
            "weighted avg       0.67      0.67      0.67      1299\n",
            "\n",
            "Overall accuracy:  0.6674364896073903\n"
          ],
          "name": "stdout"
        }
      ]
    }
  ]
}