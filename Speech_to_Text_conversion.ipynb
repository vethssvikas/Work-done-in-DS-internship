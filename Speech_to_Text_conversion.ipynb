{
  "nbformat": 4,
  "nbformat_minor": 0,
  "metadata": {
    "kernelspec": {
      "display_name": "Python 3",
      "language": "python",
      "name": "python3"
    },
    "language_info": {
      "codemirror_mode": {
        "name": "ipython",
        "version": 3
      },
      "file_extension": ".py",
      "mimetype": "text/x-python",
      "name": "python",
      "nbconvert_exporter": "python",
      "pygments_lexer": "ipython3",
      "version": "3.8.5"
    },
    "colab": {
      "name": "Speech to Text conversion.ipynb",
      "provenance": [],
      "include_colab_link": true
    }
  },
  "cells": [
    {
      "cell_type": "markdown",
      "metadata": {
        "id": "view-in-github",
        "colab_type": "text"
      },
      "source": [
        "<a href=\"https://colab.research.google.com/github/vethssvikas/Work-done-in-DS-internship/blob/main/Speech_to_Text_conversion.ipynb\" target=\"_parent\"><img src=\"https://colab.research.google.com/assets/colab-badge.svg\" alt=\"Open In Colab\"/></a>"
      ]
    },
    {
      "cell_type": "markdown",
      "metadata": {
        "id": "Xx6xDJ0vfL2r"
      },
      "source": [
        "### 1ST AUDIO FILE"
      ]
    },
    {
      "cell_type": "code",
      "metadata": {
        "id": "K7DHCfxHfL2u"
      },
      "source": [
        "import speech_recognition as sr\n",
        "\n",
        "# Initialize recognizer class (for recognizing the speech) and store in the object call\n",
        "r = sr.Recognizer()\n",
        "\n",
        "# Reading Audio file as source\n",
        "# listening the audio file and store in text variable\n",
        "#Give your file name with path\n",
        "\n",
        "with sr.AudioFile('test6.wav') as source:\n",
        "    r.adjust_for_ambient_noise(source)\n",
        "    text = r.record(source)"
      ],
      "execution_count": null,
      "outputs": []
    },
    {
      "cell_type": "markdown",
      "metadata": {
        "id": "Z47gJXp7fL2v"
      },
      "source": [
        "### ENGLISH SPEECH PART"
      ]
    },
    {
      "cell_type": "code",
      "metadata": {
        "id": "Mco5UOlQfL2w",
        "outputId": "193f706e-e50c-44d2-e04f-7ec7077ce68a"
      },
      "source": [
        "    try:\n",
        "        text_output = r.recognize_google(text) # By default, it converts the speech into english \n",
        "        print(text_output)\n",
        "        \n",
        "\n",
        "     \n",
        "    except:\n",
        "        print('Sorry')\n"
      ],
      "execution_count": null,
      "outputs": [
        {
          "name": "stdout",
          "output_type": "stream",
          "text": [
            "hello application college student\n"
          ]
        }
      ]
    },
    {
      "cell_type": "markdown",
      "metadata": {
        "id": "IDaYgg_NfL2w"
      },
      "source": [
        "### TELUGU SPEECH PART"
      ]
    },
    {
      "cell_type": "code",
      "metadata": {
        "id": "_lBFB92HfL2w",
        "outputId": "af6a2be3-c7a9-49bb-8634-9f23aade383a"
      },
      "source": [
        "    try:\n",
        "        text_output = r.recognize_google(text,language = \"te-IN\") # By default, it converts the speech into english \n",
        "        print(text_output)\n",
        "        \n",
        "\n",
        "     \n",
        "    except:\n",
        "        print('Sorry')"
      ],
      "execution_count": null,
      "outputs": [
        {
          "name": "stdout",
          "output_type": "stream",
          "text": [
            "Sorry\n"
          ]
        }
      ]
    },
    {
      "cell_type": "code",
      "metadata": {
        "id": "xUUDtOjqfL2x"
      },
      "source": [
        ""
      ],
      "execution_count": null,
      "outputs": []
    }
  ]
}