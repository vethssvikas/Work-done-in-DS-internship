{
  "nbformat": 4,
  "nbformat_minor": 0,
  "metadata": {
    "kernelspec": {
      "display_name": "Python 3",
      "language": "python",
      "name": "python3"
    },
    "language_info": {
      "codemirror_mode": {
        "name": "ipython",
        "version": 3
      },
      "file_extension": ".py",
      "mimetype": "text/x-python",
      "name": "python",
      "nbconvert_exporter": "python",
      "pygments_lexer": "ipython3",
      "version": "3.8.5"
    },
    "colab": {
      "name": "Question detection - 2.ipynb",
      "provenance": [],
      "include_colab_link": true
    }
  },
  "cells": [
    {
      "cell_type": "markdown",
      "metadata": {
        "id": "view-in-github",
        "colab_type": "text"
      },
      "source": [
        "<a href=\"https://colab.research.google.com/github/vethssvikas/Work-done-in-DS-internship/blob/main/Question_detection_2.ipynb\" target=\"_parent\"><img src=\"https://colab.research.google.com/assets/colab-badge.svg\" alt=\"Open In Colab\"/></a>"
      ]
    },
    {
      "cell_type": "code",
      "metadata": {
        "id": "1wVPnnRab7ie",
        "outputId": "e97f2c6d-99af-4f11-eb48-0799d76c74ce"
      },
      "source": [
        "import nltk\n",
        "nltk.download('nps_chat')\n",
        "nltk.download('punkt')"
      ],
      "execution_count": null,
      "outputs": [
        {
          "name": "stderr",
          "output_type": "stream",
          "text": [
            "[nltk_data] Downloading package nps_chat to\n",
            "[nltk_data]     C:\\Users\\Lenovo\\AppData\\Roaming\\nltk_data...\n",
            "[nltk_data]   Unzipping corpora\\nps_chat.zip.\n",
            "[nltk_data] Downloading package punkt to\n",
            "[nltk_data]     C:\\Users\\Lenovo\\AppData\\Roaming\\nltk_data...\n",
            "[nltk_data]   Package punkt is already up-to-date!\n"
          ]
        },
        {
          "data": {
            "text/plain": [
              "True"
            ]
          },
          "execution_count": 6,
          "metadata": {},
          "output_type": "execute_result"
        }
      ]
    },
    {
      "cell_type": "code",
      "metadata": {
        "id": "pQITmdi0b7ii"
      },
      "source": [
        "import re\n",
        "import nltk.corpus\n",
        "from nltk.corpus import nps_chat\n",
        "import pandas as pd\n",
        "\n",
        "class isq():\n",
        "    \n",
        "    # Init constructor\n",
        "    def __init__(self):\n",
        "        posts = self.__get_posts()\n",
        "        feature_set = self.__get_feature_set(posts)\n",
        "        self.classifier = self.__perform_classification(feature_set)\n",
        "        \n",
        "    def __get_posts(self):\n",
        "        return nltk.corpus.nps_chat.xml_posts()\n",
        "    \n",
        "    def __get_feature_set(self, posts):\n",
        "        feature_list = []\n",
        "        for post in posts:\n",
        "            post_text = post.text            \n",
        "            features = {}\n",
        "            words = nltk.word_tokenize(post_text)\n",
        "            for word in words:\n",
        "                features['contains({})'.format(word.lower())] = True\n",
        "            feature_list.append((features, post.get('class')))\n",
        "        return feature_list\n",
        "    \n",
        "    def __perform_classification(self, feature_set):\n",
        "        training_size = int(len(feature_set) * 0.1)\n",
        "        train_set, test_set = feature_set[training_size:], feature_set[:training_size]\n",
        "        classifier = nltk.NaiveBayesClassifier.train(train_set)\n",
        "        print('Accuracy is : ', nltk.classify.accuracy(classifier, test_set))\n",
        "        return classifier\n",
        "        \n",
        "    def __get_question_words_set(self):\n",
        "        question_word_list = ['what', 'where', 'when','how','why','did','do','does','have','has','am','is','are','can','could','may','would','will','should'\n",
        "\"didn't\",\"doesn't\",\"haven't\",\"isn't\",\"aren't\",\"can't\",\"couldn't\",\"wouldn't\",\"won't\",\"shouldn't\",'?']\n",
        "        return set(question_word_list)    \n",
        "    \n",
        "    def predict_question(self, text):\n",
        "        words = nltk.word_tokenize(text.lower())        \n",
        "        if self.__get_question_words_set().intersection(words) == False:\n",
        "            return 0\n",
        "        if '?' in text:\n",
        "            return 1\n",
        "        \n",
        "        features = {}\n",
        "        for word in words:\n",
        "            features['contains({})'.format(word.lower())] = True            \n",
        "        \n",
        "        prediction_result = self.classifier.classify(features)\n",
        "        if prediction_result == 'whQuestion' or prediction_result == 'ynQuestion':\n",
        "            return 1\n",
        "        return 0\n",
        "    \n",
        "    "
      ],
      "execution_count": null,
      "outputs": []
    },
    {
      "cell_type": "code",
      "metadata": {
        "id": "qz_9eX-Cb7ij",
        "outputId": "b8bc03f4-ad02-401a-cdf3-8dcc1b91ed04"
      },
      "source": [
        "input = isq()"
      ],
      "execution_count": null,
      "outputs": [
        {
          "name": "stdout",
          "output_type": "stream",
          "text": [
            "Accuracy is :  0.6685606060606061\n"
          ]
        }
      ]
    },
    {
      "cell_type": "code",
      "metadata": {
        "id": "yHJqCCLOb7ij",
        "outputId": "9b4649fa-f6bc-4d92-a94b-64e7ba6af08c"
      },
      "source": [
        "input.predict_question('what is this')"
      ],
      "execution_count": null,
      "outputs": [
        {
          "data": {
            "text/plain": [
              "1"
            ]
          },
          "execution_count": 14,
          "metadata": {},
          "output_type": "execute_result"
        }
      ]
    },
    {
      "cell_type": "code",
      "metadata": {
        "id": "FrCvkUMYb7ij"
      },
      "source": [
        ""
      ],
      "execution_count": null,
      "outputs": []
    },
    {
      "cell_type": "code",
      "metadata": {
        "id": "Wrt-zA3Fb7ij"
      },
      "source": [
        ""
      ],
      "execution_count": null,
      "outputs": []
    }
  ]
}